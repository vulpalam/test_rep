{
 "cells": [
  {
   "cell_type": "code",
   "execution_count": 5,
   "metadata": {
    "collapsed": true
   },
   "outputs": [],
   "source": [
    "import requests"
   ]
  },
  {
   "cell_type": "code",
   "execution_count": 6,
   "metadata": {
    "collapsed": true
   },
   "outputs": [],
   "source": [
    "graph_api_version = 'v2.10'\n",
    "access_token = 'get from file'"
   ]
  },
  {
   "cell_type": "code",
   "execution_count": 7,
   "metadata": {
    "collapsed": true
   },
   "outputs": [],
   "source": [
    "user_id = '1499569113705481'"
   ]
  },
  {
   "cell_type": "code",
   "execution_count": 9,
   "metadata": {
    "collapsed": true
   },
   "outputs": [],
   "source": [
    "\n",
    "post_id = '1869078366754552'"
   ]
  },
  {
   "cell_type": "code",
   "execution_count": 12,
   "metadata": {
    "collapsed": true
   },
   "outputs": [],
   "source": [
    "url = 'https://graph.facebook.com/{}/{}_{}/comments'.format(graph_api_version, user_id, post_id)\n",
    "comments = []\n",
    "\n",
    "r = requests.get(url, params={'access_token': access_token})"
   ]
  },
  {
   "cell_type": "code",
   "execution_count": 13,
   "metadata": {},
   "outputs": [
    {
     "data": {
      "text/plain": [
       "<Response [200]>"
      ]
     },
     "execution_count": 13,
     "metadata": {},
     "output_type": "execute_result"
    }
   ],
   "source": [
    "r"
   ]
  },
  {
   "cell_type": "code",
   "execution_count": 15,
   "metadata": {},
   "outputs": [
    {
     "name": "stdout",
     "output_type": "stream",
     "text": [
      "got 25 comments\n",
      "got 25 comments\n",
      "got 25 comments\n",
      "got 25 comments\n",
      "got 25 comments\n",
      "got 25 comments\n",
      "got 25 comments\n",
      "got 25 comments\n",
      "got 25 comments\n",
      "got 25 comments\n",
      "got 25 comments\n",
      "got 12 comments\n"
     ]
    }
   ],
   "source": [
    "while True:\n",
    "    data = r.json()\n",
    "\n",
    "    # catch errors returned by the Graph API\n",
    "    if 'error' in data:\n",
    "        raise Exception(data['error']['message'])\n",
    "\n",
    "    # append the text of each comment into the comments list\n",
    "    for comment in data['data']:\n",
    "        # remove line breaks in each comment\n",
    "        text = comment['message'].replace('\\n', ' ')\n",
    "        comments.append(text)\n",
    "\n",
    "    print('got {} comments'.format(len(data['data'])))\n",
    "\n",
    "    # check if there are more comments\n",
    "    if 'paging' in data and 'next' in data['paging']:\n",
    "        r = requests.get(data['paging']['next'])\n",
    "    else:\n",
    "        break\n",
    "\n",
    "# save the comments to a file\n",
    "with open('comments.txt', 'w', encoding='utf-8') as f:\n",
    "    for comment in comments:\n",
    "        f.write(comment + '\\n')"
   ]
  },
  {
   "cell_type": "code",
   "execution_count": null,
   "metadata": {
    "collapsed": true
   },
   "outputs": [],
   "source": []
  }
 ],
 "metadata": {
  "kernelspec": {
   "display_name": "Python [default]",
   "language": "python",
   "name": "python3"
  },
  "language_info": {
   "codemirror_mode": {
    "name": "ipython",
    "version": 3
   },
   "file_extension": ".py",
   "mimetype": "text/x-python",
   "name": "python",
   "nbconvert_exporter": "python",
   "pygments_lexer": "ipython3",
   "version": "3.5.3"
  }
 },
 "nbformat": 4,
 "nbformat_minor": 2
}
